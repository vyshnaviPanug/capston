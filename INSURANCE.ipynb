{
 "cells": [
  {
   "cell_type": "code",
   "execution_count": 1,
   "metadata": {},
   "outputs": [
    {
     "name": "stderr",
     "output_type": "stream",
     "text": [
      "D:\\dse\\Anaconda\\lib\\importlib\\_bootstrap.py:219: RuntimeWarning: numpy.ufunc size changed, may indicate binary incompatibility. Expected 192 from C header, got 216 from PyObject\n",
      "  return f(*args, **kwds)\n",
      "D:\\dse\\Anaconda\\lib\\importlib\\_bootstrap.py:219: RuntimeWarning: numpy.ufunc size changed, may indicate binary incompatibility. Expected 192 from C header, got 216 from PyObject\n",
      "  return f(*args, **kwds)\n",
      "D:\\dse\\Anaconda\\lib\\importlib\\_bootstrap.py:219: RuntimeWarning: numpy.ufunc size changed, may indicate binary incompatibility. Expected 216, got 192\n",
      "  return f(*args, **kwds)\n",
      "D:\\dse\\Anaconda\\lib\\importlib\\_bootstrap.py:219: RuntimeWarning: numpy.ufunc size changed, may indicate binary incompatibility. Expected 192 from C header, got 216 from PyObject\n",
      "  return f(*args, **kwds)\n"
     ]
    }
   ],
   "source": [
    "import numpy as np\n",
    "import pandas as pd\n",
    "import matplotlib.pyplot as plt\n",
    "import seaborn as sns\n",
    "import warnings\n",
    "warnings.filterwarnings(\"ignore\")\n",
    "from sklearn.tree import DecisionTreeClassifier,DecisionTreeRegressor\n",
    "from sklearn.ensemble import RandomForestClassifier\n",
    "from sklearn.model_selection import train_test_split\n",
    "from sklearn.metrics import accuracy_score, confusion_matrix,classification_report, mean_squared_error\n",
    "from sklearn.ensemble import AdaBoostClassifier,GradientBoostingClassifier,RandomForestClassifier,AdaBoostRegressor,BaggingClassifier\n",
    "from sklearn.model_selection import GridSearchCV,KFold\n",
    "from sklearn.ensemble import BaggingRegressor, GradientBoostingRegressor\n",
    "from sklearn.neighbors import KNeighborsRegressor\n",
    "from sklearn.neighbors import KNeighborsClassifier\n",
    "from sklearn.naive_bayes import GaussianNB"
   ]
  },
  {
   "cell_type": "code",
   "execution_count": 3,
   "metadata": {},
   "outputs": [
    {
     "data": {
      "text/html": [
       "<div>\n",
       "<style scoped>\n",
       "    .dataframe tbody tr th:only-of-type {\n",
       "        vertical-align: middle;\n",
       "    }\n",
       "\n",
       "    .dataframe tbody tr th {\n",
       "        vertical-align: top;\n",
       "    }\n",
       "\n",
       "    .dataframe thead th {\n",
       "        text-align: right;\n",
       "    }\n",
       "</style>\n",
       "<table border=\"1\" class=\"dataframe\">\n",
       "  <thead>\n",
       "    <tr style=\"text-align: right;\">\n",
       "      <th></th>\n",
       "      <th>Id</th>\n",
       "      <th>Product_Info_1</th>\n",
       "      <th>Product_Info_2</th>\n",
       "      <th>Product_Info_3</th>\n",
       "      <th>Product_Info_4</th>\n",
       "      <th>Product_Info_5</th>\n",
       "      <th>Product_Info_6</th>\n",
       "      <th>Product_Info_7</th>\n",
       "      <th>Ins_Age</th>\n",
       "      <th>Ht</th>\n",
       "      <th>...</th>\n",
       "      <th>Medical_Keyword_40</th>\n",
       "      <th>Medical_Keyword_41</th>\n",
       "      <th>Medical_Keyword_42</th>\n",
       "      <th>Medical_Keyword_43</th>\n",
       "      <th>Medical_Keyword_44</th>\n",
       "      <th>Medical_Keyword_45</th>\n",
       "      <th>Medical_Keyword_46</th>\n",
       "      <th>Medical_Keyword_47</th>\n",
       "      <th>Medical_Keyword_48</th>\n",
       "      <th>Response</th>\n",
       "    </tr>\n",
       "  </thead>\n",
       "  <tbody>\n",
       "    <tr>\n",
       "      <th>0</th>\n",
       "      <td>2</td>\n",
       "      <td>1</td>\n",
       "      <td>D3</td>\n",
       "      <td>10</td>\n",
       "      <td>0.076923</td>\n",
       "      <td>2</td>\n",
       "      <td>1</td>\n",
       "      <td>1</td>\n",
       "      <td>0.641791</td>\n",
       "      <td>0.581818</td>\n",
       "      <td>...</td>\n",
       "      <td>0</td>\n",
       "      <td>0</td>\n",
       "      <td>0</td>\n",
       "      <td>0</td>\n",
       "      <td>0</td>\n",
       "      <td>0</td>\n",
       "      <td>0</td>\n",
       "      <td>0</td>\n",
       "      <td>0</td>\n",
       "      <td>8</td>\n",
       "    </tr>\n",
       "    <tr>\n",
       "      <th>1</th>\n",
       "      <td>5</td>\n",
       "      <td>1</td>\n",
       "      <td>A1</td>\n",
       "      <td>26</td>\n",
       "      <td>0.076923</td>\n",
       "      <td>2</td>\n",
       "      <td>3</td>\n",
       "      <td>1</td>\n",
       "      <td>0.059701</td>\n",
       "      <td>0.600000</td>\n",
       "      <td>...</td>\n",
       "      <td>0</td>\n",
       "      <td>0</td>\n",
       "      <td>0</td>\n",
       "      <td>0</td>\n",
       "      <td>0</td>\n",
       "      <td>0</td>\n",
       "      <td>0</td>\n",
       "      <td>0</td>\n",
       "      <td>0</td>\n",
       "      <td>4</td>\n",
       "    </tr>\n",
       "    <tr>\n",
       "      <th>2</th>\n",
       "      <td>6</td>\n",
       "      <td>1</td>\n",
       "      <td>E1</td>\n",
       "      <td>26</td>\n",
       "      <td>0.076923</td>\n",
       "      <td>2</td>\n",
       "      <td>3</td>\n",
       "      <td>1</td>\n",
       "      <td>0.029851</td>\n",
       "      <td>0.745455</td>\n",
       "      <td>...</td>\n",
       "      <td>0</td>\n",
       "      <td>0</td>\n",
       "      <td>0</td>\n",
       "      <td>0</td>\n",
       "      <td>0</td>\n",
       "      <td>0</td>\n",
       "      <td>0</td>\n",
       "      <td>0</td>\n",
       "      <td>0</td>\n",
       "      <td>8</td>\n",
       "    </tr>\n",
       "    <tr>\n",
       "      <th>3</th>\n",
       "      <td>7</td>\n",
       "      <td>1</td>\n",
       "      <td>D4</td>\n",
       "      <td>10</td>\n",
       "      <td>0.487179</td>\n",
       "      <td>2</td>\n",
       "      <td>3</td>\n",
       "      <td>1</td>\n",
       "      <td>0.164179</td>\n",
       "      <td>0.672727</td>\n",
       "      <td>...</td>\n",
       "      <td>0</td>\n",
       "      <td>0</td>\n",
       "      <td>0</td>\n",
       "      <td>0</td>\n",
       "      <td>0</td>\n",
       "      <td>0</td>\n",
       "      <td>0</td>\n",
       "      <td>0</td>\n",
       "      <td>0</td>\n",
       "      <td>8</td>\n",
       "    </tr>\n",
       "    <tr>\n",
       "      <th>4</th>\n",
       "      <td>8</td>\n",
       "      <td>1</td>\n",
       "      <td>D2</td>\n",
       "      <td>26</td>\n",
       "      <td>0.230769</td>\n",
       "      <td>2</td>\n",
       "      <td>3</td>\n",
       "      <td>1</td>\n",
       "      <td>0.417910</td>\n",
       "      <td>0.654545</td>\n",
       "      <td>...</td>\n",
       "      <td>0</td>\n",
       "      <td>0</td>\n",
       "      <td>0</td>\n",
       "      <td>0</td>\n",
       "      <td>0</td>\n",
       "      <td>0</td>\n",
       "      <td>0</td>\n",
       "      <td>0</td>\n",
       "      <td>0</td>\n",
       "      <td>8</td>\n",
       "    </tr>\n",
       "  </tbody>\n",
       "</table>\n",
       "<p>5 rows × 128 columns</p>\n",
       "</div>"
      ],
      "text/plain": [
       "   Id  Product_Info_1 Product_Info_2  Product_Info_3  Product_Info_4  \\\n",
       "0   2               1             D3              10        0.076923   \n",
       "1   5               1             A1              26        0.076923   \n",
       "2   6               1             E1              26        0.076923   \n",
       "3   7               1             D4              10        0.487179   \n",
       "4   8               1             D2              26        0.230769   \n",
       "\n",
       "   Product_Info_5  Product_Info_6  Product_Info_7   Ins_Age        Ht  ...  \\\n",
       "0               2               1               1  0.641791  0.581818  ...   \n",
       "1               2               3               1  0.059701  0.600000  ...   \n",
       "2               2               3               1  0.029851  0.745455  ...   \n",
       "3               2               3               1  0.164179  0.672727  ...   \n",
       "4               2               3               1  0.417910  0.654545  ...   \n",
       "\n",
       "   Medical_Keyword_40  Medical_Keyword_41  Medical_Keyword_42  \\\n",
       "0                   0                   0                   0   \n",
       "1                   0                   0                   0   \n",
       "2                   0                   0                   0   \n",
       "3                   0                   0                   0   \n",
       "4                   0                   0                   0   \n",
       "\n",
       "   Medical_Keyword_43  Medical_Keyword_44  Medical_Keyword_45  \\\n",
       "0                   0                   0                   0   \n",
       "1                   0                   0                   0   \n",
       "2                   0                   0                   0   \n",
       "3                   0                   0                   0   \n",
       "4                   0                   0                   0   \n",
       "\n",
       "   Medical_Keyword_46  Medical_Keyword_47  Medical_Keyword_48  Response  \n",
       "0                   0                   0                   0         8  \n",
       "1                   0                   0                   0         4  \n",
       "2                   0                   0                   0         8  \n",
       "3                   0                   0                   0         8  \n",
       "4                   0                   0                   0         8  \n",
       "\n",
       "[5 rows x 128 columns]"
      ]
     },
     "execution_count": 3,
     "metadata": {},
     "output_type": "execute_result"
    }
   ],
   "source": [
    "d=pd.read_csv('DATA.csv')\n",
    "d.head()"
   ]
  },
  {
   "cell_type": "code",
   "execution_count": 4,
   "metadata": {},
   "outputs": [
    {
     "data": {
      "text/plain": [
       "(59381, 128)"
      ]
     },
     "execution_count": 4,
     "metadata": {},
     "output_type": "execute_result"
    }
   ],
   "source": [
    "d.shape"
   ]
  },
  {
   "cell_type": "code",
   "execution_count": 5,
   "metadata": {},
   "outputs": [
    {
     "name": "stdout",
     "output_type": "stream",
     "text": [
      "<class 'pandas.core.frame.DataFrame'>\n",
      "RangeIndex: 59381 entries, 0 to 59380\n",
      "Data columns (total 128 columns):\n",
      "Id                     int64\n",
      "Product_Info_1         int64\n",
      "Product_Info_2         object\n",
      "Product_Info_3         int64\n",
      "Product_Info_4         float64\n",
      "Product_Info_5         int64\n",
      "Product_Info_6         int64\n",
      "Product_Info_7         int64\n",
      "Ins_Age                float64\n",
      "Ht                     float64\n",
      "Wt                     float64\n",
      "BMI                    float64\n",
      "Employment_Info_1      float64\n",
      "Employment_Info_2      int64\n",
      "Employment_Info_3      int64\n",
      "Employment_Info_4      float64\n",
      "Employment_Info_5      int64\n",
      "Employment_Info_6      float64\n",
      "InsuredInfo_1          int64\n",
      "InsuredInfo_2          int64\n",
      "InsuredInfo_3          int64\n",
      "InsuredInfo_4          int64\n",
      "InsuredInfo_5          int64\n",
      "InsuredInfo_6          int64\n",
      "InsuredInfo_7          int64\n",
      "Insurance_History_1    int64\n",
      "Insurance_History_2    int64\n",
      "Insurance_History_3    int64\n",
      "Insurance_History_4    int64\n",
      "Insurance_History_5    float64\n",
      "Insurance_History_7    int64\n",
      "Insurance_History_8    int64\n",
      "Insurance_History_9    int64\n",
      "Family_Hist_1          int64\n",
      "Family_Hist_2          float64\n",
      "Family_Hist_3          float64\n",
      "Family_Hist_4          float64\n",
      "Family_Hist_5          float64\n",
      "Medical_History_1      float64\n",
      "Medical_History_2      int64\n",
      "Medical_History_3      int64\n",
      "Medical_History_4      int64\n",
      "Medical_History_5      int64\n",
      "Medical_History_6      int64\n",
      "Medical_History_7      int64\n",
      "Medical_History_8      int64\n",
      "Medical_History_9      int64\n",
      "Medical_History_10     float64\n",
      "Medical_History_11     int64\n",
      "Medical_History_12     int64\n",
      "Medical_History_13     int64\n",
      "Medical_History_14     int64\n",
      "Medical_History_15     float64\n",
      "Medical_History_16     int64\n",
      "Medical_History_17     int64\n",
      "Medical_History_18     int64\n",
      "Medical_History_19     int64\n",
      "Medical_History_20     int64\n",
      "Medical_History_21     int64\n",
      "Medical_History_22     int64\n",
      "Medical_History_23     int64\n",
      "Medical_History_24     float64\n",
      "Medical_History_25     int64\n",
      "Medical_History_26     int64\n",
      "Medical_History_27     int64\n",
      "Medical_History_28     int64\n",
      "Medical_History_29     int64\n",
      "Medical_History_30     int64\n",
      "Medical_History_31     int64\n",
      "Medical_History_32     float64\n",
      "Medical_History_33     int64\n",
      "Medical_History_34     int64\n",
      "Medical_History_35     int64\n",
      "Medical_History_36     int64\n",
      "Medical_History_37     int64\n",
      "Medical_History_38     int64\n",
      "Medical_History_39     int64\n",
      "Medical_History_40     int64\n",
      "Medical_History_41     int64\n",
      "Medical_Keyword_1      int64\n",
      "Medical_Keyword_2      int64\n",
      "Medical_Keyword_3      int64\n",
      "Medical_Keyword_4      int64\n",
      "Medical_Keyword_5      int64\n",
      "Medical_Keyword_6      int64\n",
      "Medical_Keyword_7      int64\n",
      "Medical_Keyword_8      int64\n",
      "Medical_Keyword_9      int64\n",
      "Medical_Keyword_10     int64\n",
      "Medical_Keyword_11     int64\n",
      "Medical_Keyword_12     int64\n",
      "Medical_Keyword_13     int64\n",
      "Medical_Keyword_14     int64\n",
      "Medical_Keyword_15     int64\n",
      "Medical_Keyword_16     int64\n",
      "Medical_Keyword_17     int64\n",
      "Medical_Keyword_18     int64\n",
      "Medical_Keyword_19     int64\n",
      "Medical_Keyword_20     int64\n",
      "Medical_Keyword_21     int64\n",
      "Medical_Keyword_22     int64\n",
      "Medical_Keyword_23     int64\n",
      "Medical_Keyword_24     int64\n",
      "Medical_Keyword_25     int64\n",
      "Medical_Keyword_26     int64\n",
      "Medical_Keyword_27     int64\n",
      "Medical_Keyword_28     int64\n",
      "Medical_Keyword_29     int64\n",
      "Medical_Keyword_30     int64\n",
      "Medical_Keyword_31     int64\n",
      "Medical_Keyword_32     int64\n",
      "Medical_Keyword_33     int64\n",
      "Medical_Keyword_34     int64\n",
      "Medical_Keyword_35     int64\n",
      "Medical_Keyword_36     int64\n",
      "Medical_Keyword_37     int64\n",
      "Medical_Keyword_38     int64\n",
      "Medical_Keyword_39     int64\n",
      "Medical_Keyword_40     int64\n",
      "Medical_Keyword_41     int64\n",
      "Medical_Keyword_42     int64\n",
      "Medical_Keyword_43     int64\n",
      "Medical_Keyword_44     int64\n",
      "Medical_Keyword_45     int64\n",
      "Medical_Keyword_46     int64\n",
      "Medical_Keyword_47     int64\n",
      "Medical_Keyword_48     int64\n",
      "Response               int64\n",
      "dtypes: float64(18), int64(109), object(1)\n",
      "memory usage: 58.0+ MB\n"
     ]
    }
   ],
   "source": [
    "d.info('Id')"
   ]
  },
  {
   "cell_type": "code",
   "execution_count": 6,
   "metadata": {},
   "outputs": [
    {
     "data": {
      "text/html": [
       "<div>\n",
       "<style scoped>\n",
       "    .dataframe tbody tr th:only-of-type {\n",
       "        vertical-align: middle;\n",
       "    }\n",
       "\n",
       "    .dataframe tbody tr th {\n",
       "        vertical-align: top;\n",
       "    }\n",
       "\n",
       "    .dataframe thead th {\n",
       "        text-align: right;\n",
       "    }\n",
       "</style>\n",
       "<table border=\"1\" class=\"dataframe\">\n",
       "  <thead>\n",
       "    <tr style=\"text-align: right;\">\n",
       "      <th></th>\n",
       "      <th>Id</th>\n",
       "      <th>Product_Info_1</th>\n",
       "      <th>Product_Info_3</th>\n",
       "      <th>Product_Info_4</th>\n",
       "      <th>Product_Info_5</th>\n",
       "      <th>Product_Info_6</th>\n",
       "      <th>Product_Info_7</th>\n",
       "      <th>Ins_Age</th>\n",
       "      <th>Ht</th>\n",
       "      <th>Wt</th>\n",
       "      <th>...</th>\n",
       "      <th>Medical_Keyword_40</th>\n",
       "      <th>Medical_Keyword_41</th>\n",
       "      <th>Medical_Keyword_42</th>\n",
       "      <th>Medical_Keyword_43</th>\n",
       "      <th>Medical_Keyword_44</th>\n",
       "      <th>Medical_Keyword_45</th>\n",
       "      <th>Medical_Keyword_46</th>\n",
       "      <th>Medical_Keyword_47</th>\n",
       "      <th>Medical_Keyword_48</th>\n",
       "      <th>Response</th>\n",
       "    </tr>\n",
       "  </thead>\n",
       "  <tbody>\n",
       "    <tr>\n",
       "      <th>count</th>\n",
       "      <td>59381.000000</td>\n",
       "      <td>59381.000000</td>\n",
       "      <td>59381.000000</td>\n",
       "      <td>59381.000000</td>\n",
       "      <td>59381.000000</td>\n",
       "      <td>59381.000000</td>\n",
       "      <td>59381.000000</td>\n",
       "      <td>59381.000000</td>\n",
       "      <td>59381.000000</td>\n",
       "      <td>59381.000000</td>\n",
       "      <td>...</td>\n",
       "      <td>59381.000000</td>\n",
       "      <td>59381.000000</td>\n",
       "      <td>59381.000000</td>\n",
       "      <td>59381.000000</td>\n",
       "      <td>59381.000000</td>\n",
       "      <td>59381.000000</td>\n",
       "      <td>59381.000000</td>\n",
       "      <td>59381.000000</td>\n",
       "      <td>59381.000000</td>\n",
       "      <td>59381.000000</td>\n",
       "    </tr>\n",
       "    <tr>\n",
       "      <th>mean</th>\n",
       "      <td>39507.211515</td>\n",
       "      <td>1.026355</td>\n",
       "      <td>24.415655</td>\n",
       "      <td>0.328952</td>\n",
       "      <td>2.006955</td>\n",
       "      <td>2.673599</td>\n",
       "      <td>1.043583</td>\n",
       "      <td>0.405567</td>\n",
       "      <td>0.707283</td>\n",
       "      <td>0.292587</td>\n",
       "      <td>...</td>\n",
       "      <td>0.056954</td>\n",
       "      <td>0.010054</td>\n",
       "      <td>0.045536</td>\n",
       "      <td>0.010710</td>\n",
       "      <td>0.007528</td>\n",
       "      <td>0.013691</td>\n",
       "      <td>0.008488</td>\n",
       "      <td>0.019905</td>\n",
       "      <td>0.054496</td>\n",
       "      <td>5.636837</td>\n",
       "    </tr>\n",
       "    <tr>\n",
       "      <th>std</th>\n",
       "      <td>22815.883089</td>\n",
       "      <td>0.160191</td>\n",
       "      <td>5.072885</td>\n",
       "      <td>0.282562</td>\n",
       "      <td>0.083107</td>\n",
       "      <td>0.739103</td>\n",
       "      <td>0.291949</td>\n",
       "      <td>0.197190</td>\n",
       "      <td>0.074239</td>\n",
       "      <td>0.089037</td>\n",
       "      <td>...</td>\n",
       "      <td>0.231757</td>\n",
       "      <td>0.099764</td>\n",
       "      <td>0.208479</td>\n",
       "      <td>0.102937</td>\n",
       "      <td>0.086436</td>\n",
       "      <td>0.116207</td>\n",
       "      <td>0.091737</td>\n",
       "      <td>0.139676</td>\n",
       "      <td>0.226995</td>\n",
       "      <td>2.456833</td>\n",
       "    </tr>\n",
       "    <tr>\n",
       "      <th>min</th>\n",
       "      <td>2.000000</td>\n",
       "      <td>1.000000</td>\n",
       "      <td>1.000000</td>\n",
       "      <td>0.000000</td>\n",
       "      <td>2.000000</td>\n",
       "      <td>1.000000</td>\n",
       "      <td>1.000000</td>\n",
       "      <td>0.000000</td>\n",
       "      <td>0.000000</td>\n",
       "      <td>0.000000</td>\n",
       "      <td>...</td>\n",
       "      <td>0.000000</td>\n",
       "      <td>0.000000</td>\n",
       "      <td>0.000000</td>\n",
       "      <td>0.000000</td>\n",
       "      <td>0.000000</td>\n",
       "      <td>0.000000</td>\n",
       "      <td>0.000000</td>\n",
       "      <td>0.000000</td>\n",
       "      <td>0.000000</td>\n",
       "      <td>1.000000</td>\n",
       "    </tr>\n",
       "    <tr>\n",
       "      <th>25%</th>\n",
       "      <td>19780.000000</td>\n",
       "      <td>1.000000</td>\n",
       "      <td>26.000000</td>\n",
       "      <td>0.076923</td>\n",
       "      <td>2.000000</td>\n",
       "      <td>3.000000</td>\n",
       "      <td>1.000000</td>\n",
       "      <td>0.238806</td>\n",
       "      <td>0.654545</td>\n",
       "      <td>0.225941</td>\n",
       "      <td>...</td>\n",
       "      <td>0.000000</td>\n",
       "      <td>0.000000</td>\n",
       "      <td>0.000000</td>\n",
       "      <td>0.000000</td>\n",
       "      <td>0.000000</td>\n",
       "      <td>0.000000</td>\n",
       "      <td>0.000000</td>\n",
       "      <td>0.000000</td>\n",
       "      <td>0.000000</td>\n",
       "      <td>4.000000</td>\n",
       "    </tr>\n",
       "    <tr>\n",
       "      <th>50%</th>\n",
       "      <td>39487.000000</td>\n",
       "      <td>1.000000</td>\n",
       "      <td>26.000000</td>\n",
       "      <td>0.230769</td>\n",
       "      <td>2.000000</td>\n",
       "      <td>3.000000</td>\n",
       "      <td>1.000000</td>\n",
       "      <td>0.402985</td>\n",
       "      <td>0.709091</td>\n",
       "      <td>0.288703</td>\n",
       "      <td>...</td>\n",
       "      <td>0.000000</td>\n",
       "      <td>0.000000</td>\n",
       "      <td>0.000000</td>\n",
       "      <td>0.000000</td>\n",
       "      <td>0.000000</td>\n",
       "      <td>0.000000</td>\n",
       "      <td>0.000000</td>\n",
       "      <td>0.000000</td>\n",
       "      <td>0.000000</td>\n",
       "      <td>6.000000</td>\n",
       "    </tr>\n",
       "    <tr>\n",
       "      <th>75%</th>\n",
       "      <td>59211.000000</td>\n",
       "      <td>1.000000</td>\n",
       "      <td>26.000000</td>\n",
       "      <td>0.487179</td>\n",
       "      <td>2.000000</td>\n",
       "      <td>3.000000</td>\n",
       "      <td>1.000000</td>\n",
       "      <td>0.567164</td>\n",
       "      <td>0.763636</td>\n",
       "      <td>0.345188</td>\n",
       "      <td>...</td>\n",
       "      <td>0.000000</td>\n",
       "      <td>0.000000</td>\n",
       "      <td>0.000000</td>\n",
       "      <td>0.000000</td>\n",
       "      <td>0.000000</td>\n",
       "      <td>0.000000</td>\n",
       "      <td>0.000000</td>\n",
       "      <td>0.000000</td>\n",
       "      <td>0.000000</td>\n",
       "      <td>8.000000</td>\n",
       "    </tr>\n",
       "    <tr>\n",
       "      <th>max</th>\n",
       "      <td>79146.000000</td>\n",
       "      <td>2.000000</td>\n",
       "      <td>38.000000</td>\n",
       "      <td>1.000000</td>\n",
       "      <td>3.000000</td>\n",
       "      <td>3.000000</td>\n",
       "      <td>3.000000</td>\n",
       "      <td>1.000000</td>\n",
       "      <td>1.000000</td>\n",
       "      <td>1.000000</td>\n",
       "      <td>...</td>\n",
       "      <td>1.000000</td>\n",
       "      <td>1.000000</td>\n",
       "      <td>1.000000</td>\n",
       "      <td>1.000000</td>\n",
       "      <td>1.000000</td>\n",
       "      <td>1.000000</td>\n",
       "      <td>1.000000</td>\n",
       "      <td>1.000000</td>\n",
       "      <td>1.000000</td>\n",
       "      <td>8.000000</td>\n",
       "    </tr>\n",
       "  </tbody>\n",
       "</table>\n",
       "<p>8 rows × 127 columns</p>\n",
       "</div>"
      ],
      "text/plain": [
       "                 Id  Product_Info_1  Product_Info_3  Product_Info_4  \\\n",
       "count  59381.000000    59381.000000    59381.000000    59381.000000   \n",
       "mean   39507.211515        1.026355       24.415655        0.328952   \n",
       "std    22815.883089        0.160191        5.072885        0.282562   \n",
       "min        2.000000        1.000000        1.000000        0.000000   \n",
       "25%    19780.000000        1.000000       26.000000        0.076923   \n",
       "50%    39487.000000        1.000000       26.000000        0.230769   \n",
       "75%    59211.000000        1.000000       26.000000        0.487179   \n",
       "max    79146.000000        2.000000       38.000000        1.000000   \n",
       "\n",
       "       Product_Info_5  Product_Info_6  Product_Info_7       Ins_Age  \\\n",
       "count    59381.000000    59381.000000    59381.000000  59381.000000   \n",
       "mean         2.006955        2.673599        1.043583      0.405567   \n",
       "std          0.083107        0.739103        0.291949      0.197190   \n",
       "min          2.000000        1.000000        1.000000      0.000000   \n",
       "25%          2.000000        3.000000        1.000000      0.238806   \n",
       "50%          2.000000        3.000000        1.000000      0.402985   \n",
       "75%          2.000000        3.000000        1.000000      0.567164   \n",
       "max          3.000000        3.000000        3.000000      1.000000   \n",
       "\n",
       "                 Ht            Wt  ...  Medical_Keyword_40  \\\n",
       "count  59381.000000  59381.000000  ...        59381.000000   \n",
       "mean       0.707283      0.292587  ...            0.056954   \n",
       "std        0.074239      0.089037  ...            0.231757   \n",
       "min        0.000000      0.000000  ...            0.000000   \n",
       "25%        0.654545      0.225941  ...            0.000000   \n",
       "50%        0.709091      0.288703  ...            0.000000   \n",
       "75%        0.763636      0.345188  ...            0.000000   \n",
       "max        1.000000      1.000000  ...            1.000000   \n",
       "\n",
       "       Medical_Keyword_41  Medical_Keyword_42  Medical_Keyword_43  \\\n",
       "count        59381.000000        59381.000000        59381.000000   \n",
       "mean             0.010054            0.045536            0.010710   \n",
       "std              0.099764            0.208479            0.102937   \n",
       "min              0.000000            0.000000            0.000000   \n",
       "25%              0.000000            0.000000            0.000000   \n",
       "50%              0.000000            0.000000            0.000000   \n",
       "75%              0.000000            0.000000            0.000000   \n",
       "max              1.000000            1.000000            1.000000   \n",
       "\n",
       "       Medical_Keyword_44  Medical_Keyword_45  Medical_Keyword_46  \\\n",
       "count        59381.000000        59381.000000        59381.000000   \n",
       "mean             0.007528            0.013691            0.008488   \n",
       "std              0.086436            0.116207            0.091737   \n",
       "min              0.000000            0.000000            0.000000   \n",
       "25%              0.000000            0.000000            0.000000   \n",
       "50%              0.000000            0.000000            0.000000   \n",
       "75%              0.000000            0.000000            0.000000   \n",
       "max              1.000000            1.000000            1.000000   \n",
       "\n",
       "       Medical_Keyword_47  Medical_Keyword_48      Response  \n",
       "count        59381.000000        59381.000000  59381.000000  \n",
       "mean             0.019905            0.054496      5.636837  \n",
       "std              0.139676            0.226995      2.456833  \n",
       "min              0.000000            0.000000      1.000000  \n",
       "25%              0.000000            0.000000      4.000000  \n",
       "50%              0.000000            0.000000      6.000000  \n",
       "75%              0.000000            0.000000      8.000000  \n",
       "max              1.000000            1.000000      8.000000  \n",
       "\n",
       "[8 rows x 127 columns]"
      ]
     },
     "execution_count": 6,
     "metadata": {},
     "output_type": "execute_result"
    }
   ],
   "source": [
    "d.describe()"
   ]
  },
  {
   "cell_type": "code",
   "execution_count": 7,
   "metadata": {},
   "outputs": [
    {
     "name": "stdout",
     "output_type": "stream",
     "text": [
      "Employment_Info_1  =   0.031996766642528755 %\n",
      "Employment_Info_4  =   11.41610952998434 %\n",
      "Employment_Info_6  =   18.278573954631952 %\n",
      "Insurance_History_5  =   42.7678887186137 %\n",
      "Family_Hist_2  =   48.25786025833179 %\n",
      "Family_Hist_3  =   57.66322561088564 %\n",
      "Family_Hist_4  =   32.3066300668564 %\n",
      "Family_Hist_5  =   70.41141105740894 %\n",
      "Medical_History_1  =   14.969434667654639 %\n",
      "Medical_History_10  =   99.06198952526903 %\n",
      "Medical_History_15  =   75.1014634310638 %\n",
      "Medical_History_24  =   93.59896263114464 %\n",
      "Medical_History_32  =   98.1357673329853 %\n"
     ]
    }
   ],
   "source": [
    "# Finding the percent of null values\n",
    "x=list(d.columns)\n",
    "for y in range (0,128):\n",
    "    a=d[x[y]].isnull().sum()\n",
    "    if  a>0:\n",
    "        b=(a/59381)*100\n",
    "        print(x[y],' =  ',b,'%')\n",
    "        y=y+1"
   ]
  },
  {
   "cell_type": "code",
   "execution_count": 8,
   "metadata": {},
   "outputs": [],
   "source": [
    "#Dropping the columns which have more than 50% of null values\n",
    "d.drop(['Id','Ht','Wt','Family_Hist_2','Family_Hist_3','Family_Hist_5','Medical_History_10',\n",
    "      'Medical_History_15','Medical_History_24','Medical_History_32'],axis=1,inplace=True)"
   ]
  },
  {
   "cell_type": "code",
   "execution_count": 9,
   "metadata": {},
   "outputs": [],
   "source": [
    "# Imputing null values in features with less than 50 % null values\n",
    "d['Employment_Info_1'].fillna(d['Employment_Info_1'].median(),inplace=True)\n",
    "d['Employment_Info_4'].fillna(d['Employment_Info_4'].median(),inplace=True)\n",
    "d['Employment_Info_6'].fillna(d['Employment_Info_6'].median(),inplace=True)\n",
    "d['Insurance_History_5'].fillna(d['Insurance_History_5'].median(),inplace=True)\n",
    "d['Family_Hist_4'].fillna(d['Family_Hist_4'].median(),inplace=True)\n",
    "d['Medical_History_1'].fillna(1,inplace=True)"
   ]
  },
  {
   "cell_type": "code",
   "execution_count": 10,
   "metadata": {},
   "outputs": [],
   "source": [
    "#converting the correlation matrix into dataframe\n",
    "d1=pd.DataFrame(d.corr())\n"
   ]
  },
  {
   "cell_type": "code",
   "execution_count": 11,
   "metadata": {},
   "outputs": [
    {
     "name": "stdout",
     "output_type": "stream",
     "text": [
      "InsuredInfo_7 -- InsuredInfo_2  =  0.5087155135728652\n",
      "Insurance_History_4 -- Insurance_History_1  =  0.5672153896999304\n",
      "Insurance_History_7 -- Insurance_History_1  =  0.4586056676825122\n",
      "Insurance_History_7 -- Insurance_History_4  =  0.9195259814197974\n",
      "Insurance_History_8 -- Insurance_History_1  =  0.7877234559145828\n",
      "Insurance_History_9 -- Insurance_History_1  =  0.5085844516104937\n",
      "Insurance_History_9 -- Insurance_History_4  =  0.9386544745126755\n",
      "Insurance_History_9 -- Insurance_History_7  =  0.9625280994167774\n",
      "Family_Hist_4 -- Ins_Age  =  0.5907509990624774\n",
      "Medical_History_36 -- Medical_History_25  =  0.9541101722846125\n",
      "Medical_Keyword_1 -- Medical_History_16  =  0.46476010319662225\n",
      "Medical_Keyword_16 -- Medical_History_18  =  0.4689211178690135\n",
      "Medical_Keyword_22 -- Medical_History_21  =  0.536244883658995\n",
      "Medical_Keyword_30 -- Medical_History_19  =  0.8409466745887633\n",
      "Medical_Keyword_34 -- Medical_History_18  =  0.6053300357526505\n",
      "Medical_Keyword_41 -- Medical_History_30  =  0.4283274496571706\n"
     ]
    }
   ],
   "source": [
    "# Extracting the columns which have correlation more than 0.4\n",
    "df = d1.where(np.triu(np.ones(d1.shape)).astype(np.bool))\n",
    "a=list(df.columns)\n",
    "b=a\n",
    "for y in range(0,117):\n",
    "    q=list(df[a[y]])\n",
    "    for i in q:\n",
    "        if i> 0.4 and a[y]!=b[q.index(i)]:\n",
    "            \n",
    "            print(a[y],'--',b[q.index(i)],' = ',i)"
   ]
  },
  {
   "cell_type": "code",
   "execution_count": 12,
   "metadata": {},
   "outputs": [
    {
     "data": {
      "text/html": [
       "<div>\n",
       "<style scoped>\n",
       "    .dataframe tbody tr th:only-of-type {\n",
       "        vertical-align: middle;\n",
       "    }\n",
       "\n",
       "    .dataframe tbody tr th {\n",
       "        vertical-align: top;\n",
       "    }\n",
       "\n",
       "    .dataframe thead th {\n",
       "        text-align: right;\n",
       "    }\n",
       "</style>\n",
       "<table border=\"1\" class=\"dataframe\">\n",
       "  <thead>\n",
       "    <tr style=\"text-align: right;\">\n",
       "      <th></th>\n",
       "      <th>ProductInfo2_A2</th>\n",
       "      <th>ProductInfo2_A3</th>\n",
       "      <th>ProductInfo2_A4</th>\n",
       "      <th>ProductInfo2_A5</th>\n",
       "      <th>ProductInfo2_A6</th>\n",
       "      <th>ProductInfo2_A7</th>\n",
       "      <th>ProductInfo2_A8</th>\n",
       "      <th>ProductInfo2_B1</th>\n",
       "      <th>ProductInfo2_B2</th>\n",
       "      <th>ProductInfo2_C1</th>\n",
       "      <th>ProductInfo2_C2</th>\n",
       "      <th>ProductInfo2_C3</th>\n",
       "      <th>ProductInfo2_C4</th>\n",
       "      <th>ProductInfo2_D1</th>\n",
       "      <th>ProductInfo2_D2</th>\n",
       "      <th>ProductInfo2_D3</th>\n",
       "      <th>ProductInfo2_D4</th>\n",
       "      <th>ProductInfo2_E1</th>\n",
       "    </tr>\n",
       "  </thead>\n",
       "  <tbody>\n",
       "    <tr>\n",
       "      <th>0</th>\n",
       "      <td>0</td>\n",
       "      <td>0</td>\n",
       "      <td>0</td>\n",
       "      <td>0</td>\n",
       "      <td>0</td>\n",
       "      <td>0</td>\n",
       "      <td>0</td>\n",
       "      <td>0</td>\n",
       "      <td>0</td>\n",
       "      <td>0</td>\n",
       "      <td>0</td>\n",
       "      <td>0</td>\n",
       "      <td>0</td>\n",
       "      <td>0</td>\n",
       "      <td>0</td>\n",
       "      <td>1</td>\n",
       "      <td>0</td>\n",
       "      <td>0</td>\n",
       "    </tr>\n",
       "    <tr>\n",
       "      <th>1</th>\n",
       "      <td>0</td>\n",
       "      <td>0</td>\n",
       "      <td>0</td>\n",
       "      <td>0</td>\n",
       "      <td>0</td>\n",
       "      <td>0</td>\n",
       "      <td>0</td>\n",
       "      <td>0</td>\n",
       "      <td>0</td>\n",
       "      <td>0</td>\n",
       "      <td>0</td>\n",
       "      <td>0</td>\n",
       "      <td>0</td>\n",
       "      <td>0</td>\n",
       "      <td>0</td>\n",
       "      <td>0</td>\n",
       "      <td>0</td>\n",
       "      <td>0</td>\n",
       "    </tr>\n",
       "    <tr>\n",
       "      <th>2</th>\n",
       "      <td>0</td>\n",
       "      <td>0</td>\n",
       "      <td>0</td>\n",
       "      <td>0</td>\n",
       "      <td>0</td>\n",
       "      <td>0</td>\n",
       "      <td>0</td>\n",
       "      <td>0</td>\n",
       "      <td>0</td>\n",
       "      <td>0</td>\n",
       "      <td>0</td>\n",
       "      <td>0</td>\n",
       "      <td>0</td>\n",
       "      <td>0</td>\n",
       "      <td>0</td>\n",
       "      <td>0</td>\n",
       "      <td>0</td>\n",
       "      <td>1</td>\n",
       "    </tr>\n",
       "    <tr>\n",
       "      <th>3</th>\n",
       "      <td>0</td>\n",
       "      <td>0</td>\n",
       "      <td>0</td>\n",
       "      <td>0</td>\n",
       "      <td>0</td>\n",
       "      <td>0</td>\n",
       "      <td>0</td>\n",
       "      <td>0</td>\n",
       "      <td>0</td>\n",
       "      <td>0</td>\n",
       "      <td>0</td>\n",
       "      <td>0</td>\n",
       "      <td>0</td>\n",
       "      <td>0</td>\n",
       "      <td>0</td>\n",
       "      <td>0</td>\n",
       "      <td>1</td>\n",
       "      <td>0</td>\n",
       "    </tr>\n",
       "    <tr>\n",
       "      <th>4</th>\n",
       "      <td>0</td>\n",
       "      <td>0</td>\n",
       "      <td>0</td>\n",
       "      <td>0</td>\n",
       "      <td>0</td>\n",
       "      <td>0</td>\n",
       "      <td>0</td>\n",
       "      <td>0</td>\n",
       "      <td>0</td>\n",
       "      <td>0</td>\n",
       "      <td>0</td>\n",
       "      <td>0</td>\n",
       "      <td>0</td>\n",
       "      <td>0</td>\n",
       "      <td>1</td>\n",
       "      <td>0</td>\n",
       "      <td>0</td>\n",
       "      <td>0</td>\n",
       "    </tr>\n",
       "  </tbody>\n",
       "</table>\n",
       "</div>"
      ],
      "text/plain": [
       "   ProductInfo2_A2  ProductInfo2_A3  ProductInfo2_A4  ProductInfo2_A5  \\\n",
       "0                0                0                0                0   \n",
       "1                0                0                0                0   \n",
       "2                0                0                0                0   \n",
       "3                0                0                0                0   \n",
       "4                0                0                0                0   \n",
       "\n",
       "   ProductInfo2_A6  ProductInfo2_A7  ProductInfo2_A8  ProductInfo2_B1  \\\n",
       "0                0                0                0                0   \n",
       "1                0                0                0                0   \n",
       "2                0                0                0                0   \n",
       "3                0                0                0                0   \n",
       "4                0                0                0                0   \n",
       "\n",
       "   ProductInfo2_B2  ProductInfo2_C1  ProductInfo2_C2  ProductInfo2_C3  \\\n",
       "0                0                0                0                0   \n",
       "1                0                0                0                0   \n",
       "2                0                0                0                0   \n",
       "3                0                0                0                0   \n",
       "4                0                0                0                0   \n",
       "\n",
       "   ProductInfo2_C4  ProductInfo2_D1  ProductInfo2_D2  ProductInfo2_D3  \\\n",
       "0                0                0                0                1   \n",
       "1                0                0                0                0   \n",
       "2                0                0                0                0   \n",
       "3                0                0                0                0   \n",
       "4                0                0                1                0   \n",
       "\n",
       "   ProductInfo2_D4  ProductInfo2_E1  \n",
       "0                0                0  \n",
       "1                0                0  \n",
       "2                0                1  \n",
       "3                1                0  \n",
       "4                0                0  "
      ]
     },
     "execution_count": 12,
     "metadata": {},
     "output_type": "execute_result"
    }
   ],
   "source": [
    "x=pd.get_dummies(d['Product_Info_2'],prefix='ProductInfo2',drop_first=True)\n",
    "x.head()"
   ]
  },
  {
   "cell_type": "code",
   "execution_count": 13,
   "metadata": {},
   "outputs": [],
   "source": [
    "d=pd.concat([d,x],axis=1)"
   ]
  },
  {
   "cell_type": "code",
   "execution_count": 14,
   "metadata": {},
   "outputs": [],
   "source": [
    "d.drop('Product_Info_2',axis=1,inplace=True)"
   ]
  },
  {
   "cell_type": "code",
   "execution_count": 15,
   "metadata": {},
   "outputs": [
    {
     "name": "stdout",
     "output_type": "stream",
     "text": [
      "Features with outliers {'Medical_History_1', 'BMI', 'Employment_Info_1', 'Insurance_History_5', 'Family_Hist_4'}\n",
      "lower boundary of features {0.1645042030000001, -0.0625, 0.21126760599999997, -0.00023333299999999996, -9.5}\n",
      "Upper boundary of features {0.7538703469999999, 0.1975, 0.66197183, 0.0021666669999999997, 18.5}\n"
     ]
    }
   ],
   "source": [
    "j=[]\n",
    "l=[]\n",
    "u=[]\n",
    "a=list(d.columns)\n",
    "for y in range(0,134):\n",
    "    q3=d[a[y]].quantile(0.75)\n",
    "    q1=d[a[y]].quantile(0.25)\n",
    "    iqr=q3-q1\n",
    "    ul=q3+1.5*iqr\n",
    "    ll=q1-1.5*iqr\n",
    "    if ul!=ll:\n",
    "        \n",
    "        for i in d[a[y]]:\n",
    "            if i>ul or i<ll:\n",
    "                j.append(a[y])\n",
    "                l.append(ll)\n",
    "                u.append(ul)\n",
    "print('Features with outliers',set(j))\n",
    "print('lower boundary of features',set(l))\n",
    "print('Upper boundary of features',set(u))"
   ]
  },
  {
   "cell_type": "code",
   "execution_count": 16,
   "metadata": {},
   "outputs": [
    {
     "data": {
      "image/png": "[encoded data removed]",
      "text/plain": [
       "<Figure size 432x288 with 1 Axes>"
      ]
     },
     "metadata": {
      "needs_background": "light"
     },
     "output_type": "display_data"
    },
    {
     "data": {
      "image/png": "[encoded data removed]",
      "text/plain": [
       "<Figure size 432x288 with 1 Axes>"
      ]
     },
     "metadata": {
      "needs_background": "light"
     },
     "output_type": "display_data"
    },
    {
     "data": {
      "image/png": "[encoded data removed]",
      "text/plain": [
       "<Figure size 432x288 with 1 Axes>"
      ]
     },
     "metadata": {
      "needs_background": "light"
     },
     "output_type": "display_data"
    },
    {
     "data": {
      "image/png": "[encoded data removed]",
      "text/plain": [
       "<Figure size 432x288 with 1 Axes>"
      ]
     },
     "metadata": {
      "needs_background": "light"
     },
     "output_type": "display_data"
    }
   ],
   "source": [
    "import seaborn as sns\n",
    "import matplotlib.pyplot as plt\n",
    "sns.boxplot(d['Employment_Info_1'])\n",
    "plt.title('Boxplot of Employment_Info_1 ')\n",
    "plt.show()\n",
    "\n",
    "sns.boxplot(d['BMI'])\n",
    "plt.title('Boxplot of BMI ')\n",
    "plt.show()\n",
    "\n",
    "sns.boxplot(d['Family_Hist_4'])\n",
    "plt.title('Boxplot before Family_Hist_4 ')\n",
    "plt.show()\n",
    "\n",
    "sns.boxplot(d['Insurance_History_5'])\n",
    "plt.title('Boxplot of Insurance_History_5 ')\n",
    "plt.show()"
   ]
  },
  {
   "cell_type": "code",
   "execution_count": 17,
   "metadata": {},
   "outputs": [
    {
     "name": "stdout",
     "output_type": "stream",
     "text": [
      "Skewness of features\n",
      "Insurance_History_5 =  134.89155609994165\n",
      "Family_Hist_4 =  0.4091113228795351\n",
      "Employment_Info_1 =  4.709403418654449\n",
      "BMI =  0.944260717685289\n"
     ]
    }
   ],
   "source": [
    "print('Skewness of features')\n",
    "print('Insurance_History_5 = ',d['Insurance_History_5'].skew())\n",
    "print('Family_Hist_4 = ',d['Family_Hist_4'].skew())\n",
    "print('Employment_Info_1 = ',d['Employment_Info_1'].skew())\n",
    "print('BMI = ',d['BMI'].skew())"
   ]
  },
  {
   "cell_type": "code",
   "execution_count": 18,
   "metadata": {},
   "outputs": [],
   "source": [
    "for col in ['Insurance_History_5','Family_Hist_4','Employment_Info_1','BMI']:\n",
    "    percentiles = d[col].quantile([0.01,0.99]).values\n",
    "    d[col][d[col] <= percentiles[0]] = percentiles[0]\n",
    "    d[col][d[col] >= percentiles[1]] = percentiles[1]"
   ]
  },
  {
   "cell_type": "code",
   "execution_count": 19,
   "metadata": {},
   "outputs": [
    {
     "data": {
      "image/png": "[encoded data removed]",
      "text/plain": [
       "<Figure size 432x288 with 1 Axes>"
      ]
     },
     "metadata": {
      "needs_background": "light"
     },
     "output_type": "display_data"
    },
    {
     "data": {
      "image/png": "[encoded data removed]",
      "text/plain": [
       "<Figure size 432x288 with 1 Axes>"
      ]
     },
     "metadata": {
      "needs_background": "light"
     },
     "output_type": "display_data"
    },
    {
     "data": {
      "image/png": "[encoded data removed]",
      "text/plain": [
       "<Figure size 432x288 with 1 Axes>"
      ]
     },
     "metadata": {
      "needs_background": "light"
     },
     "output_type": "display_data"
    },
    {
     "data": {
      "image/png": "[encoded data removed]",
      "text/plain": [
       "<Figure size 432x288 with 1 Axes>"
      ]
     },
     "metadata": {
      "needs_background": "light"
     },
     "output_type": "display_data"
    }
   ],
   "source": [
    "sns.boxplot(d['Employment_Info_1'])\n",
    "plt.title('Boxplot for Employment_Info_1 after capping and flooring of outliers')\n",
    "plt.show()\n",
    "\n",
    "plt.title('Boxplot for BMI after capping and flooring of outliers')\n",
    "sns.boxplot(d['BMI'])\n",
    "plt.show()\n",
    "\n",
    "plt.title('Boxplot for Family_Hist_4 after capping and flooring of outliers')\n",
    "sns.boxplot(d['Family_Hist_4'])\n",
    "plt.show()\n",
    "\n",
    "\n",
    "plt.title('Boxplot for Insurance_History_5 after capping and flooring of outliers')\n",
    "sns.boxplot(d['Insurance_History_5'])\n",
    "plt.show()"
   ]
  },
  {
   "cell_type": "code",
   "execution_count": 20,
   "metadata": {},
   "outputs": [
    {
     "name": "stdout",
     "output_type": "stream",
     "text": [
      "Skewness of features\n",
      "Insurance_History_5 =  2.6319732668048093\n",
      "Family_Hist_4 =  0.4072228128371821\n",
      "Employment_Info_1 =  2.2854012387923675\n",
      "BMI =  0.8166862152362031\n"
     ]
    }
   ],
   "source": [
    "print('Skewness of features')\n",
    "print('Insurance_History_5 = ',d['Insurance_History_5'].skew())\n",
    "print('Family_Hist_4 = ',d['Family_Hist_4'].skew())\n",
    "print('Employment_Info_1 = ',d['Employment_Info_1'].skew())\n",
    "print('BMI = ',d['BMI'].skew())"
   ]
  },
  {
   "cell_type": "code",
   "execution_count": 21,
   "metadata": {},
   "outputs": [
    {
     "data": {
      "text/plain": [
       "Response\n",
       "1     6207\n",
       "2     6552\n",
       "3     1013\n",
       "4     1428\n",
       "5     5432\n",
       "6    11233\n",
       "7     8027\n",
       "8    19489\n",
       "Name: Employment_Info_1, dtype: int64"
      ]
     },
     "execution_count": 21,
     "metadata": {},
     "output_type": "execute_result"
    }
   ],
   "source": [
    "d.groupby(['Response'])['Employment_Info_1'].count()"
   ]
  },
  {
   "cell_type": "code",
   "execution_count": 22,
   "metadata": {},
   "outputs": [
    {
     "data": {
      "text/plain": [
       "<matplotlib.axes._subplots.AxesSubplot at 0x2346c731208>"
      ]
     },
     "execution_count": 22,
     "metadata": {},
     "output_type": "execute_result"
    },
    {
     "data": {
      "image/png": "[encoded data removed]",
      "text/plain": [
       "<Figure size 432x288 with 1 Axes>"
      ]
     },
     "metadata": {
      "needs_background": "light"
     },
     "output_type": "display_data"
    }
   ],
   "source": [
    "sns.countplot(d['Response'])"
   ]
  },
  {
   "cell_type": "code",
   "execution_count": null,
   "metadata": {},
   "outputs": [],
   "source": []
  },
  {
   "cell_type": "code",
   "execution_count": 23,
   "metadata": {},
   "outputs": [],
   "source": [
    "x=d.drop(['Response'], axis=1)\n",
    "y=d[['Response']]"
   ]
  },
  {
   "cell_type": "code",
   "execution_count": 24,
   "metadata": {},
   "outputs": [],
   "source": [
    "from imblearn.over_sampling import SMOTE\n",
    "smt = SMOTE()\n",
    "x,y= smt.fit_sample(x,y)"
   ]
  },
  {
   "cell_type": "code",
   "execution_count": 25,
   "metadata": {},
   "outputs": [],
   "source": [
    "from sklearn.model_selection import train_test_split\n",
    "x_train,x_test,y_train,y_test=train_test_split(x,y,test_size=0.3,random_state=100)"
   ]
  },
  {
   "cell_type": "code",
   "execution_count": 26,
   "metadata": {},
   "outputs": [
    {
     "name": "stdout",
     "output_type": "stream",
     "text": [
      "0.649377859494591\n"
     ]
    }
   ],
   "source": [
    "from sklearn.ensemble import RandomForestClassifier\n",
    "model=RandomForestClassifier(random_state=100)\n",
    "model.fit(x_train,y_train)\n",
    "y_pred=model.predict(x_test)\n",
    "from sklearn.metrics import accuracy_score\n",
    "print(accuracy_score(y_test,y_pred))"
   ]
  },
  {
   "cell_type": "code",
   "execution_count": 27,
   "metadata": {},
   "outputs": [],
   "source": [
    "from sklearn.preprocessing import StandardScaler \n",
    "sc = StandardScaler().fit_transform(d)\n",
    "x_train =StandardScaler().fit_transform(x_train)\n",
    "x_test=StandardScaler().fit_transform(x_test)"
   ]
  },
  {
   "cell_type": "code",
   "execution_count": 28,
   "metadata": {},
   "outputs": [],
   "source": [
    "from sklearn.decomposition import PCA\n",
    "pca=PCA()\n",
    "X_train_2 = pca.fit_transform(x_train)\n",
    "X_test_2 = pca.transform(x_test)\n"
   ]
  },
  {
   "cell_type": "code",
   "execution_count": 29,
   "metadata": {
    "scrolled": true
   },
   "outputs": [
    {
     "data": {
      "text/plain": [
       "array([4.65928406e-02, 3.02507673e-02, 2.46054876e-02, 2.13005871e-02,\n",
       "       1.89993779e-02, 1.69990916e-02, 1.55109348e-02, 1.47982774e-02,\n",
       "       1.41377539e-02, 1.32832422e-02, 1.32278457e-02, 1.29417158e-02,\n",
       "       1.25577931e-02, 1.23943893e-02, 1.23738703e-02, 1.20493578e-02,\n",
       "       1.18583909e-02, 1.17862459e-02, 1.16735343e-02, 1.12708278e-02,\n",
       "       1.11046831e-02, 1.09203565e-02, 1.06669487e-02, 9.88014334e-03,\n",
       "       9.54796982e-03, 9.19358646e-03, 9.11788921e-03, 8.78272506e-03,\n",
       "       8.70734513e-03, 8.49268117e-03, 8.39797095e-03, 8.35169299e-03,\n",
       "       8.26614267e-03, 8.19258838e-03, 8.16842856e-03, 8.10116550e-03,\n",
       "       8.04928670e-03, 7.96530426e-03, 7.93122229e-03, 7.89666968e-03,\n",
       "       7.85702548e-03, 7.81380480e-03, 7.79263481e-03, 7.76198139e-03,\n",
       "       7.75248663e-03, 7.73135835e-03, 7.67872992e-03, 7.66610041e-03,\n",
       "       7.63690011e-03, 7.61233929e-03, 7.59636729e-03, 7.58021919e-03,\n",
       "       7.56805010e-03, 7.52530025e-03, 7.50486084e-03, 7.50180625e-03,\n",
       "       7.46969454e-03, 7.43420953e-03, 7.43298767e-03, 7.39729118e-03,\n",
       "       7.37730847e-03, 7.36607947e-03, 7.32735467e-03, 7.31681664e-03,\n",
       "       7.27130858e-03, 7.24039396e-03, 7.22130704e-03, 7.20111487e-03,\n",
       "       7.17917750e-03, 7.15274493e-03, 7.13926103e-03, 7.09612832e-03,\n",
       "       7.08728778e-03, 7.01438416e-03, 7.01158748e-03, 6.97581643e-03,\n",
       "       6.95102533e-03, 6.91216939e-03, 6.90222801e-03, 6.86463458e-03,\n",
       "       6.81933254e-03, 6.80495943e-03, 6.73044753e-03, 6.70774317e-03,\n",
       "       6.68029376e-03, 6.66092475e-03, 6.59445391e-03, 6.51989153e-03,\n",
       "       6.45289788e-03, 6.35877789e-03, 6.28812294e-03, 6.23161478e-03,\n",
       "       6.17113671e-03, 6.15957292e-03, 5.98775928e-03, 5.93065070e-03,\n",
       "       5.69732826e-03, 5.67267711e-03, 5.37318558e-03, 5.24515104e-03,\n",
       "       4.97772152e-03, 4.45768454e-03, 4.09105789e-03, 3.92739959e-03,\n",
       "       3.62150479e-03, 3.61488580e-03, 3.46865087e-03, 3.41991564e-03,\n",
       "       3.30120765e-03, 2.90095453e-03, 2.75263550e-03, 2.61047578e-03,\n",
       "       2.42776478e-03, 2.13296499e-03, 2.07155397e-03, 1.95872319e-03,\n",
       "       1.76254285e-03, 1.62561065e-03, 1.39921376e-03, 1.28875921e-03,\n",
       "       1.22238564e-03, 1.21390939e-03, 7.59752404e-04, 5.99620657e-04,\n",
       "       4.56162519e-04, 3.33649195e-04, 3.27985280e-04, 3.22942142e-04,\n",
       "       1.88758151e-04, 1.79778818e-04, 7.51713576e-05, 6.32045486e-05,\n",
       "       5.21956184e-05, 3.69266167e-05])"
      ]
     },
     "execution_count": 29,
     "metadata": {},
     "output_type": "execute_result"
    }
   ],
   "source": [
    "explained_variance = pca.explained_variance_ratio_  \n",
    "explained_variance"
   ]
  },
  {
   "cell_type": "code",
   "execution_count": 30,
   "metadata": {},
   "outputs": [
    {
     "data": {
      "text/plain": [
       "Text(0, 0.5, 'cumulative explained variance')"
      ]
     },
     "execution_count": 30,
     "metadata": {},
     "output_type": "execute_result"
    },
    {
     "data": {
      "image/png": "[encoded data removed]",
      "text/plain": [
       "<Figure size 432x288 with 1 Axes>"
      ]
     },
     "metadata": {
      "needs_background": "light"
     },
     "output_type": "display_data"
    }
   ],
   "source": [
    "plt.plot(np.cumsum(pca.explained_variance_ratio_))\n",
    "plt.xlabel('number of components')\n",
    "plt.ylabel('cumulative explained variance')"
   ]
  },
  {
   "cell_type": "code",
   "execution_count": 31,
   "metadata": {},
   "outputs": [
    {
     "data": {
      "text/plain": [
       "array([0.04659284, 0.07684361, 0.1014491 , 0.12274968, 0.14174906,\n",
       "       0.15874815, 0.17425909, 0.18905736, 0.20319512, 0.21647836,\n",
       "       0.22970621, 0.24264792, 0.25520571, 0.2676001 , 0.27997397,\n",
       "       0.29202333, 0.30388172, 0.31566797, 0.3273415 , 0.33861233,\n",
       "       0.34971701, 0.36063737, 0.37130432, 0.38118446, 0.39073243,\n",
       "       0.39992602, 0.40904391, 0.41782663, 0.42653398, 0.43502666,\n",
       "       0.44342463, 0.45177632, 0.46004247, 0.46823505, 0.47640348,\n",
       "       0.48450465, 0.49255394, 0.50051924, 0.50845046, 0.51634713,\n",
       "       0.52420416, 0.53201796, 0.5398106 , 0.54757258, 0.55532506,\n",
       "       0.56305642, 0.57073515, 0.57840125, 0.58603815, 0.59365049,\n",
       "       0.60124686, 0.60882708, 0.61639513, 0.62392043, 0.63142529,\n",
       "       0.6389271 , 0.64639679, 0.653831  , 0.66126399, 0.66866128,\n",
       "       0.67603859, 0.68340467, 0.69073202, 0.69804884, 0.70532015,\n",
       "       0.71256054, 0.71978185, 0.72698296, 0.73416214, 0.74131489,\n",
       "       0.74845415, 0.75555028, 0.76263756, 0.76965195, 0.77666353,\n",
       "       0.78363935, 0.79059038, 0.79750255, 0.80440477, 0.81126941,\n",
       "       0.81808874, 0.8248937 , 0.83162415, 0.83833189, 0.84501218,\n",
       "       0.85167311, 0.85826756, 0.86478746, 0.87124035, 0.87759913,\n",
       "       0.88388725, 0.89011887, 0.89629001, 0.90244958, 0.90843734,\n",
       "       0.91436799, 0.92006532, 0.92573799, 0.93111118, 0.93635633,\n",
       "       0.94133405, 0.94579174, 0.94988279, 0.95381019, 0.9574317 ,\n",
       "       0.96104658, 0.96451524, 0.96793515, 0.97123636, 0.97413731,\n",
       "       0.97688995, 0.97950042, 0.98192819, 0.98406115, 0.98613271,\n",
       "       0.98809143, 0.98985397, 0.99147958, 0.9928788 , 0.99416756,\n",
       "       0.99538994, 0.99660385, 0.99736361, 0.99796323, 0.99841939,\n",
       "       0.99875304, 0.99908102, 0.99940396, 0.99959272, 0.9997725 ,\n",
       "       0.99984767, 0.99991088, 0.99996307, 1.        ])"
      ]
     },
     "execution_count": 31,
     "metadata": {},
     "output_type": "execute_result"
    }
   ],
   "source": [
    "cumvar=np.cumsum(pca.explained_variance_ratio_)\n",
    "cumvar"
   ]
  },
  {
   "cell_type": "code",
   "execution_count": 32,
   "metadata": {},
   "outputs": [
    {
     "data": {
      "text/plain": [
       "(109138, 134)"
      ]
     },
     "execution_count": 32,
     "metadata": {},
     "output_type": "execute_result"
    }
   ],
   "source": [
    "X_train_2.shape"
   ]
  },
  {
   "cell_type": "code",
   "execution_count": 33,
   "metadata": {},
   "outputs": [
    {
     "data": {
      "image/png": "[encoded data removed]",
      "text/plain": [
       "<Figure size 1440x1440 with 1 Axes>"
      ]
     },
     "metadata": {
      "needs_background": "light"
     },
     "output_type": "display_data"
    }
   ],
   "source": [
    "plt.figure(figsize=(20,20))\n",
    "plt.bar(range(1,135), pca.explained_variance_ratio_, label = 'Individual Explained Variance')\n",
    "plt.step(range(1,135), cumvar, label = 'Cumulative Explained Variance')\n",
    "plt.ylabel('Explained Variance Ratio')\n",
    "plt.xlabel('Principal Components')\n",
    "plt.legend()\n",
    "plt.show()"
   ]
  },
  {
   "cell_type": "code",
   "execution_count": 34,
   "metadata": {},
   "outputs": [
    {
     "name": "stdout",
     "output_type": "stream",
     "text": [
      "Accuracy Score: 0.6896138880574678\n"
     ]
    }
   ],
   "source": [
    "# applying rf base model\n",
    "rf=RandomForestClassifier(n_estimators=20, random_state=100)\n",
    "rf.fit(X_train_2,y_train)\n",
    "y_pred_rf = rf.predict(X_test_2)\n",
    "ac_rf= accuracy_score(y_test, y_pred_rf)\n",
    "print(\"Accuracy Score:\", ac_rf)"
   ]
  },
  {
   "cell_type": "code",
   "execution_count": 35,
   "metadata": {},
   "outputs": [],
   "source": [
    "from sklearn.decomposition import PCA\n",
    "pca=PCA(n_components=120)\n",
    "X_train_2 = pca.fit_transform(x_train)\n",
    "X_test_2 = pca.transform(x_test)\n"
   ]
  },
  {
   "cell_type": "code",
   "execution_count": 36,
   "metadata": {},
   "outputs": [
    {
     "name": "stdout",
     "output_type": "stream",
     "text": [
      "Accuracy Score: 0.6895283704622226\n"
     ]
    }
   ],
   "source": [
    "# applying rf base model\n",
    "rf=RandomForestClassifier(n_estimators=20, random_state=100)\n",
    "rf.fit(X_train_2,y_train)\n",
    "y_pred_rf = rf.predict(X_test_2)\n",
    "ac_rf= accuracy_score(y_test, y_pred_rf)\n",
    "print(\"Accuracy Score:\", ac_rf)"
   ]
  },
  {
   "cell_type": "code",
   "execution_count": null,
   "metadata": {},
   "outputs": [],
   "source": []
  },
  {
   "cell_type": "code",
   "execution_count": null,
   "metadata": {},
   "outputs": [],
   "source": []
  },
  {
   "cell_type": "code",
   "execution_count": null,
   "metadata": {},
   "outputs": [],
   "source": []
  },
  {
   "cell_type": "code",
   "execution_count": null,
   "metadata": {},
   "outputs": [],
   "source": []
  },
  {
   "cell_type": "code",
   "execution_count": null,
   "metadata": {},
   "outputs": [],
   "source": []
  },
  {
   "cell_type": "code",
   "execution_count": 37,
   "metadata": {},
   "outputs": [
    {
     "data": {
      "text/plain": [
       "GridSearchCV(cv=5, error_score='raise-deprecating',\n",
       "             estimator=RandomForestClassifier(bootstrap=True, class_weight=None,\n",
       "                                              criterion='gini', max_depth=None,\n",
       "                                              max_features='auto',\n",
       "                                              max_leaf_nodes=None,\n",
       "                                              min_impurity_decrease=0.0,\n",
       "                                              min_impurity_split=None,\n",
       "                                              min_samples_leaf=1,\n",
       "                                              min_samples_split=2,\n",
       "                                              min_weight_fraction_leaf=0.0,\n",
       "                                              n_estimators='warn', n_jobs=None,\n",
       "                                              oob_score=False, random_state=100,\n",
       "                                              verbose=0, warm_start=False),\n",
       "             iid='warn', n_jobs=None,\n",
       "             param_grid={'criterion': ['gini', 'entropy'],\n",
       "                         'max_depth': array([1, 2, 3, 4]),\n",
       "                         'n_estimators': array([1, 2, 3, 4])},\n",
       "             pre_dispatch='2*n_jobs', refit=True, return_train_score=False,\n",
       "             scoring='precision_weighted', verbose=0)"
      ]
     },
     "execution_count": 37,
     "metadata": {},
     "output_type": "execute_result"
    }
   ],
   "source": [
    "#applying gs on base rf model\n",
    "rf=RandomForestClassifier(random_state=100)\n",
    "#kf=KFold(n_splits=5,shuffle=True,random_state=100)\n",
    "param={'n_estimators':np.arange(1,5),'criterion':['gini','entropy'],'max_depth':np.arange(1,5)}\n",
    "GS_rf=GridSearchCV(rf,param,cv=5,scoring='precision_weighted')\n",
    "GS_rf.fit(X_train_2,y_train)"
   ]
  },
  {
   "cell_type": "code",
   "execution_count": null,
   "metadata": {},
   "outputs": [],
   "source": []
  },
  {
   "cell_type": "code",
   "execution_count": 38,
   "metadata": {},
   "outputs": [
    {
     "name": "stdout",
     "output_type": "stream",
     "text": [
      "Accuracy Score: 0.23510924872792577\n"
     ]
    }
   ],
   "source": [
    "#Applying base NB model\n",
    "from sklearn.naive_bayes import GaussianNB \n",
    "gnb = GaussianNB() \n",
    "gnb.fit(X_train_2, y_train)\n",
    "y_pred_nb = gnb.predict(X_test_2)\n",
    "ac_nb = accuracy_score(y_test, y_pred_nb)\n",
    "print(\"Accuracy Score:\", ac_nb)"
   ]
  },
  {
   "cell_type": "code",
   "execution_count": 39,
   "metadata": {},
   "outputs": [
    {
     "name": "stdout",
     "output_type": "stream",
     "text": [
      "Accuracy Score: 0.23532304271603882\n"
     ]
    }
   ],
   "source": [
    "#Applying bagging Naive Bayes\n",
    "nb_bag=BaggingClassifier(base_estimator=gnb,random_state=100)\n",
    "nb_bag.fit(X_train_2,y_train)\n",
    "nb_bag_pred=nb_bag.predict(X_test_2)\n",
    "ac_nb_bag=accuracy_score(nb_bag_pred,y_test)\n",
    "print('Accuracy Score:', ac_nb_bag)"
   ]
  },
  {
   "cell_type": "code",
   "execution_count": null,
   "metadata": {},
   "outputs": [],
   "source": [
    "#applying gs on bagging nb model\n",
    "kf=KFold(n_splits=5,shuffle=True,random_state=100)\n",
    "param={'n_estimators':np.arange(1,20)}\n",
    "GS_nb_bag=GridSearchCV(nb_bag,param,cv=kf,scoring='precision_weighted')\n",
    "GS_nb_bag.fit(X_train_2,y_train)"
   ]
  },
  {
   "cell_type": "code",
   "execution_count": null,
   "metadata": {},
   "outputs": [],
   "source": [
    "#Base dt model\n",
    "from sklearn.tree import DecisionTreeClassifier\n",
    "dt=DecisionTreeClassifier(random_state=100)\n",
    "dt.fit(X_train_2,y_train)\n",
    "y_pred_dt=dt.predict(X_test_2)\n",
    "ac_dt=accuracy_score(y_pred_dt,y_test)\n",
    "print('Accuracy Score:', ac_dt)"
   ]
  },
  {
   "cell_type": "code",
   "execution_count": null,
   "metadata": {},
   "outputs": [],
   "source": [
    "#applying gs on base dt model\n",
    "dt=DecisionTreeClassifier()\n",
    "kf=KFold(n_splits=5,shuffle=True,random_state=100)\n",
    "param={'criterion':['gini','entropy'],'max_depth':np.arange(1,10)}\n",
    "GS_dt=GridSearchCV(dt,param,cv=kf,scoring='precision_weighted')\n",
    "GS_dt.fit(X_train_2,y_train)"
   ]
  },
  {
   "cell_type": "code",
   "execution_count": null,
   "metadata": {},
   "outputs": [],
   "source": [
    "# applying bagging for above decision tree"
   ]
  },
  {
   "cell_type": "code",
   "execution_count": null,
   "metadata": {},
   "outputs": [],
   "source": [
    "dt_bag=BaggingClassifier(base_estimator=dt,random_state=100)\n",
    "dt_bag.fit(X_train_2,y_train)\n",
    "dt_bag_pred=dt_bag.predict(X_test_2)\n",
    "ac_dt_bag=accuracy_score(dt_bag_pred,y_test)\n",
    "print('Accuracy Score:', ac_dt_bag)"
   ]
  },
  {
   "cell_type": "code",
   "execution_count": null,
   "metadata": {},
   "outputs": [],
   "source": [
    "#applying gs on bagging dt model\n",
    "kf=KFold(n_splits=5,shuffle=True,random_state=100)\n",
    "param={'n_estimators':np.arange(1,100),'criterion':['gini','entropy'],'max_depth':np.arange(1,10)}\n",
    "GS_dt_bag=GridSearchCV(dt_bag,param,cv=kf,scoring='precision_weighted')\n",
    "GS_dt_bag.fit(X_train_2,y_train)"
   ]
  },
  {
   "cell_type": "code",
   "execution_count": null,
   "metadata": {},
   "outputs": [],
   "source": [
    "#Applying base knn\n",
    "from sklearn.neighbors import KNeighborsClassifier\n",
    "knn=KNeighborsClassifier()\n",
    "knn.fit(X_train_2,y_train)\n",
    "y_pred_knn=knn.predict(X_test_2)\n",
    "ac_knn=accuracy_score(y_pred,y_pred_knn)\n",
    "print('Accuracy Score:', ac_knn)"
   ]
  },
  {
   "cell_type": "code",
   "execution_count": null,
   "metadata": {},
   "outputs": [],
   "source": [
    "#Applying gs on base knn\n",
    "from sklearn.model_selection import GridSearchCV\n",
    "knn=KNeighborsClassifier()\n",
    "param={'n_neighbors':np.arange(1,50),'weights':['uniform','distance']}\n",
    "GS_knn=GridSearchCV(knn,param,cv=kf,scoring='recall_weighted')\n",
    "GS_knn.fit(X_train_2,y_train)"
   ]
  },
  {
   "cell_type": "code",
   "execution_count": null,
   "metadata": {},
   "outputs": [],
   "source": [
    "#Bagged knn\n",
    "knn_bag=BaggingClassifier(base_estimator=knn,random_state=100)\n",
    "knn_bag.fit(X_train_2,y_train)\n",
    "knn_bag_pred=knn_bag.predict(X_test_2)\n",
    "ac_knn=accuracy_score(knn_bag_pred,y_test)\n",
    "print('Accuracy Score:', ac_knn)"
   ]
  },
  {
   "cell_type": "code",
   "execution_count": null,
   "metadata": {},
   "outputs": [],
   "source": [
    "#Applying gs on bagged knn\n",
    "from sklearn.model_selection import GridSearchCV\n",
    "knn_bag=KNeighborsClassifier()\n",
    "param={'n_estimators':np.arange(1,100),'n_neighbors':np.arange(1,50),'weights':['uniform','distance']}\n",
    "GS_knn_bag=GridSearchCV(knn_bag,param,cv=kf,scoring='recall_weighted')\n",
    "GS_knn_bag.fit(X_train_2,y_train)"
   ]
  },
  {
   "cell_type": "code",
   "execution_count": null,
   "metadata": {},
   "outputs": [],
   "source": [
    "from sklearn.model_selection import GridSearchCV,KFold"
   ]
  },
  {
   "cell_type": "code",
   "execution_count": null,
   "metadata": {},
   "outputs": [],
   "source": []
  },
  {
   "cell_type": "code",
   "execution_count": null,
   "metadata": {},
   "outputs": [],
   "source": []
  },
  {
   "cell_type": "code",
   "execution_count": 48,
   "metadata": {},
   "outputs": [
    {
     "data": {
      "text/plain": [
       "0        10\n",
       "1        26\n",
       "2        26\n",
       "3        10\n",
       "4        26\n",
       "5        26\n",
       "6        10\n",
       "7        26\n",
       "8        26\n",
       "9        21\n",
       "10       26\n",
       "11       26\n",
       "12       26\n",
       "13       26\n",
       "14       26\n",
       "15       26\n",
       "16       26\n",
       "17       26\n",
       "18       26\n",
       "19       26\n",
       "20       26\n",
       "21       26\n",
       "22       26\n",
       "23       26\n",
       "24       26\n",
       "25       26\n",
       "26       26\n",
       "27       26\n",
       "28       26\n",
       "29       26\n",
       "         ..\n",
       "59351    26\n",
       "59352    10\n",
       "59353    26\n",
       "59354    26\n",
       "59355    26\n",
       "59356    10\n",
       "59357    26\n",
       "59358    26\n",
       "59359    26\n",
       "59360    26\n",
       "59361    26\n",
       "59362    26\n",
       "59363     4\n",
       "59364    26\n",
       "59365    29\n",
       "59366    26\n",
       "59367    26\n",
       "59368    26\n",
       "59369    26\n",
       "59370    26\n",
       "59371    26\n",
       "59372    26\n",
       "59373    29\n",
       "59374    26\n",
       "59375    26\n",
       "59376    10\n",
       "59377    26\n",
       "59378    26\n",
       "59379    10\n",
       "59380    26\n",
       "Name: Product_Info_3, Length: 59381, dtype: int64"
      ]
     },
     "execution_count": 48,
     "metadata": {},
     "output_type": "execute_result"
    }
   ],
   "source": []
  },
  {
   "cell_type": "code",
   "execution_count": null,
   "metadata": {},
   "outputs": [],
   "source": []
  },
  {
   "cell_type": "code",
   "execution_count": null,
   "metadata": {},
   "outputs": [],
   "source": []
  },
  {
   "cell_type": "code",
   "execution_count": null,
   "metadata": {},
   "outputs": [],
   "source": [
    "import sklearn\n",
    "sklearn.metrics.SCORERS.keys()"
   ]
  },
  {
   "cell_type": "code",
   "execution_count": null,
   "metadata": {},
   "outputs": [],
   "source": []
  }
 ],
 "metadata": {
  "kernelspec": {
   "display_name": "Python 3",
   "language": "python",
   "name": "python3"
  },
  "language_info": {
   "codemirror_mode": {
    "name": "ipython",
    "version": 3
   },
   "file_extension": ".py",
   "mimetype": "text/x-python",
   "name": "python",
   "nbconvert_exporter": "python",
   "pygments_lexer": "ipython3",
   "version": "3.7.3"
  }
 },
 "nbformat": 4,
 "nbformat_minor": 2
}
